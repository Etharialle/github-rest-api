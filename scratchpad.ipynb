{
 "cells": [
  {
   "cell_type": "code",
   "execution_count": 56,
   "metadata": {},
   "outputs": [],
   "source": [
    "import requests\n",
    "\n",
    "# Replace with your GitHub Personal Access Token\n",
    "GITHUB_TOKEN = \"token\"\n",
    "\n",
    "# Define the search query\n",
    "REPOS = [\"Etharialle/js-binary-search-tree\",\"Etharialle/js-todo\"]\n",
    "REPO = \"Etharialle/js-todo\"\n",
    "QUERY = \"node\"\n",
    "URL = f\"https://api.github.com/search/code?q={QUERY}+repo:{REPOS[0]}+repo:{REPOS[1]}\"\n",
    "\n",
    "# Set up headers for authentication\n",
    "headers = {\n",
    "    \"Authorization\": f\"token {GITHUB_TOKEN}\",\n",
    "    \"Accept\": \"application/vnd.github.v3+json\"\n",
    "}\n",
    "\n",
    "def search_github():\n",
    "    try:\n",
    "        response = requests.get(URL, headers=headers)\n",
    "        response.raise_for_status()  # Raise exception for HTTP errors\n",
    "        data = response.json()\n",
    "        rate_limit = requests.get(\"https://api.github.com/rate_limit\", headers=headers)\n",
    "        rate_limit_json = rate_limit.json()[\"resources\"][\"search\"]\n",
    "        print(rate_limit_json)\n",
    "        # Display results\n",
    "        print(f\"Total Results: {data['total_count']}\")\n",
    "        for item in data.get('items', []):\n",
    "            print(f\"\\nFile: {item['name']}\")\n",
    "            print(f\"Path: {item['path']}\")\n",
    "            print(f\"URL: {item['html_url']}\")\n",
    "\n",
    "    except requests.exceptions.RequestException as e:\n",
    "        print(f\"An error occurred: {e}\")\n"
   ]
  },
  {
   "cell_type": "code",
   "execution_count": 57,
   "metadata": {},
   "outputs": [
    {
     "name": "stdout",
     "output_type": "stream",
     "text": [
      "{'limit': 30, 'used': 0, 'remaining': 30, 'reset': 1729715388}\n",
      "Total Results: 4\n",
      "\n",
      "File: bst.mjs\n",
      "Path: bst.mjs\n",
      "URL: https://github.com/Etharialle/js-binary-search-tree/blob/8ce424d30ae85f9ad4050cfccee8ca3568a2648a/bst.mjs\n",
      "\n",
      "File: dom.js\n",
      "Path: src/dom.js\n",
      "URL: https://github.com/Etharialle/js-todo/blob/c8f59fc1081e4946c55de75940861b123251b824/src/dom.js\n",
      "\n",
      "File: bstTest.mjs\n",
      "Path: bstTest.mjs\n",
      "URL: https://github.com/Etharialle/js-binary-search-tree/blob/8ce424d30ae85f9ad4050cfccee8ca3568a2648a/bstTest.mjs\n",
      "\n",
      "File: package-lock.json\n",
      "Path: package-lock.json\n",
      "URL: https://github.com/Etharialle/js-todo/blob/c8f59fc1081e4946c55de75940861b123251b824/package-lock.json\n"
     ]
    }
   ],
   "source": [
    "search_github()"
   ]
  }
 ],
 "metadata": {
  "kernelspec": {
   "display_name": "data_analysis",
   "language": "python",
   "name": "python3"
  },
  "language_info": {
   "codemirror_mode": {
    "name": "ipython",
    "version": 3
   },
   "file_extension": ".py",
   "mimetype": "text/x-python",
   "name": "python",
   "nbconvert_exporter": "python",
   "pygments_lexer": "ipython3",
   "version": "3.12.3"
  }
 },
 "nbformat": 4,
 "nbformat_minor": 2
}
